{
 "cells": [
  {
   "cell_type": "markdown",
   "id": "8411797a",
   "metadata": {},
   "source": [
    "November 22, 2021<br/>\n",
    "<br/>\n",
    "Diane Granger<br/>\n",
    "dianeegranger@gmail.com<br/>\n",
    "<br/>\n",
    "Quiz Day 5<br/>\n",
    "Python Essentials Zero to Hero<br/>\n",
    "LetsUpgrade<br/>\n",
    "<br/>\n",
    "Instructor:  Kamal Seth<br/>"
   ]
  },
  {
   "cell_type": "code",
   "execution_count": 5,
   "id": "8eaa4fd0",
   "metadata": {},
   "outputs": [
    {
     "name": "stdout",
     "output_type": "stream",
     "text": [
      "Please enter your name: Jim\n",
      "Please guess a word: toys\n",
      "toys is not the randomly chosen word.  Please guess again.\n",
      "\n",
      "Please enter your name: Jim\n",
      "Please guess a word: red\n",
      "red is not the randomly chosen word.  Please guess again.\n",
      "\n",
      "Please enter your name: Jim\n",
      "Please guess a word: green\n",
      "green is not the randomly chosen word.  Please guess again.\n",
      "\n",
      "Please enter your name: Jim\n",
      "Please guess a word: Christmas\n",
      "christmas is not the randomly chosen word.  Please guess again.\n",
      "\n",
      "Please enter your name: Jim\n",
      "Please guess a word: Santa\n",
      "Great guess!!! santa is the randomly chosen word from the word list.\n",
      "Thank you for playing.\n"
     ]
    }
   ],
   "source": [
    "def wordguess():\n",
    "    \n",
    "    import os\n",
    "    import random\n",
    "\n",
    "    words = ['toys', 'red', 'green', 'Christmas', 'Santa', 'gingerbread', 'gifts', 'shopping', 'wreath', 'holly']\n",
    "    words = [each_string.lower() for each_string in words]\n",
    "\n",
    "    word = random.choice(words)\n",
    "    select = random.choice(word)\n",
    "\n",
    "    guess = ''\n",
    "\n",
    "\n",
    "\n",
    "    while True:\n",
    "        name = input(\"Please enter your name: \")\n",
    "        guess = input(\"Please guess a word: \")\n",
    "   \n",
    "        if guess.lower() == word:\n",
    "            print(\"Great guess!!!\", guess.lower(), \"is the randomly chosen word from the word list.\")\n",
    "            print(\"Thank you for playing.\")\n",
    "            break\n",
    "\n",
    "        elif guess.lower() != word:\n",
    "            print(guess.lower(), \"is not the randomly chosen word.  Please guess again.\\n\")\n",
    "\n",
    "wordguess()"
   ]
  }
 ],
 "metadata": {
  "kernelspec": {
   "display_name": "Python 3",
   "language": "python",
   "name": "python3"
  },
  "language_info": {
   "codemirror_mode": {
    "name": "ipython",
    "version": 3
   },
   "file_extension": ".py",
   "mimetype": "text/x-python",
   "name": "python",
   "nbconvert_exporter": "python",
   "pygments_lexer": "ipython3",
   "version": "3.8.8"
  }
 },
 "nbformat": 4,
 "nbformat_minor": 5
}
